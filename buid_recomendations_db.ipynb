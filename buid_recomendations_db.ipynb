{
 "cells": [
  {
   "cell_type": "code",
   "execution_count": null,
   "id": "1a66b77c",
   "metadata": {
    "vscode": {
     "languageId": "plaintext"
    }
   },
   "outputs": [],
   "source": []
  },
  {
   "cell_type": "code",
   "execution_count": null,
   "id": "a183c2f0",
   "metadata": {},
   "outputs": [],
   "source": [
    "from sentence_transformers import SentenceTransformer\n",
    "import pandas as pd\n",
    "import faiss\n",
    "import numpy as np\n",
    "import pickle\n",
    "from tqdm import tqdm\n",
    "\n",
    "# Load mô hình\n",
    "model = SentenceTransformer(\"sentence-transformers/all-MiniLM-L6-v2\")\n",
    "\n",
    "# Load dữ liệu\n",
    "df = pd.read_csv(\"products.csv\")  # hoặc đọc từ DB\n",
    "\n",
    "# Fill NaN để tránh lỗi\n",
    "df.fillna(\"\", inplace=True)\n",
    "\n",
    "# Tạo văn bản để embedding (có thể tinh chỉnh theo use-case)\n",
    "texts = (df[\"name\"] + \". \" + df[\"short_description\"]).tolist()\n",
    "\n",
    "# Encode văn bản thành vector\n",
    "embeddings = model.encode(texts, show_progress_bar=True, convert_to_numpy=True)\n",
    "\n",
    "# FAISS index\n",
    "dimension = embeddings.shape[1]\n",
    "index = faiss.IndexFlatL2(dimension)\n",
    "index.add(embeddings)\n",
    "\n",
    "# Lưu FAISS index\n",
    "faiss.write_index(index, \"product_faiss.index\")\n",
    "\n",
    "# Tạo metadata map (đưa từng dòng thành dict)\n",
    "metadata = df.to_dict(orient=\"records\")\n",
    "with open(\"product_metadata.pkl\", \"wb\") as f:\n",
    "    pickle.dump(metadata, f)\n"
   ]
  },
  {
   "cell_type": "code",
   "execution_count": null,
   "id": "a0316ce3",
   "metadata": {},
   "outputs": [],
   "source": [
    "def recommend_products(query, top_k=5):\n",
    "    # Load mô hình, FAISS, metadata\n",
    "    model = SentenceTransformer(\"sentence-transformers/all-MiniLM-L6-v2\")\n",
    "    index = faiss.read_index(\"product_faiss.index\")\n",
    "    with open(\"product_metadata.pkl\", \"rb\") as f:\n",
    "        metadata = pickle.load(f)\n",
    "\n",
    "    # Convert query → vector\n",
    "    query_vector = model.encode([query])\n",
    "    \n",
    "    # Tìm kiếm top-k\n",
    "    distances, indices = index.search(query_vector, top_k)\n",
    "\n",
    "    # Lấy metadata tương ứng\n",
    "    results = [metadata[i] for i in indices[0]]\n",
    "    return results\n"
   ]
  }
 ],
 "metadata": {
  "language_info": {
   "name": "python"
  }
 },
 "nbformat": 4,
 "nbformat_minor": 5
}
